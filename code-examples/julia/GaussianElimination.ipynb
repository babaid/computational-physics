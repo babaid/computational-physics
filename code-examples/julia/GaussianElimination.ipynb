{
 "cells": [
  {
   "cell_type": "code",
   "execution_count": 1,
   "id": "25b2d650-7964-48e6-9a55-4fc389962fb6",
   "metadata": {},
   "outputs": [
    {
     "name": "stderr",
     "output_type": "stream",
     "text": [
      "\u001b[32m\u001b[1m  Activating\u001b[22m\u001b[39m project at `~/repos/Computational-Physics-Intro/julia`\n"
     ]
    }
   ],
   "source": [
    "using Pkg; Pkg.activate(\".\")\n",
    "using LinearAlgebra"
   ]
  },
  {
   "cell_type": "code",
   "execution_count": 55,
   "id": "33456e43-5cf4-4a60-a90c-e44d427637ef",
   "metadata": {},
   "outputs": [
    {
     "data": {
      "text/plain": [
       "3×3 Matrix{Float64}:\n",
       " 1.0  2.0   3.0\n",
       " 4.0  5.0   6.0\n",
       " 7.0  8.0  10.0"
      ]
     },
     "execution_count": 55,
     "metadata": {},
     "output_type": "execute_result"
    }
   ],
   "source": [
    "test_mat = [1 2 3; 4 5. 6; 7 8 10]"
   ]
  },
  {
   "cell_type": "code",
   "execution_count": 56,
   "id": "24a367a4-0169-4327-aee8-919ca653c89d",
   "metadata": {},
   "outputs": [
    {
     "data": {
      "text/plain": [
       "sort_rows_by_leading_zeros (generic function with 1 method)"
      ]
     },
     "execution_count": 56,
     "metadata": {},
     "output_type": "execute_result"
    }
   ],
   "source": [
    "function sort_rows_by_leading_zeros(matrix::Matrix)\n",
    "    return sortslices(matrix, dims=1, by=row->sum(cumprod(row .== 0)))\n",
    "end"
   ]
  },
  {
   "cell_type": "code",
   "execution_count": 57,
   "id": "43f4963b-ff14-4282-9e1a-f9437235ae36",
   "metadata": {},
   "outputs": [
    {
     "data": {
      "text/plain": [
       "3×3 Matrix{Float64}:\n",
       " 1.0  2.0   3.0\n",
       " 4.0  5.0   6.0\n",
       " 7.0  8.0  10.0"
      ]
     },
     "execution_count": 57,
     "metadata": {},
     "output_type": "execute_result"
    }
   ],
   "source": [
    "sort_rows_by_leading_zeros(test_mat)"
   ]
  },
  {
   "cell_type": "code",
   "execution_count": 58,
   "id": "45d11bd2-994c-43e2-83cf-f2647a3d4f3b",
   "metadata": {},
   "outputs": [
    {
     "data": {
      "text/plain": [
       "forward_elim (generic function with 1 method)"
      ]
     },
     "execution_count": 58,
     "metadata": {},
     "output_type": "execute_result"
    }
   ],
   "source": [
    "function forward_elim(mat, s)\n",
    "    A = sort_rows_by_leading_zeros(mat)\n",
    "    N = size(A)[1]\n",
    "    b = copy(s)\n",
    "    for i in 1:N\n",
    "        p = A[i, i]\n",
    "        A[i, :] /= p\n",
    "        b[i] = b[i]/p\n",
    "        for j in (i+1):N\n",
    "            p = A[j, i]\n",
    "            A[j, :] -= p*A[i, :]\n",
    "            b[j]-=b[i]*p\n",
    "        end\n",
    "    end\n",
    "\n",
    "    return A, b\n",
    "end"
   ]
  },
  {
   "cell_type": "code",
   "execution_count": 59,
   "id": "e0d2e0cd-b245-40a9-8cbc-d8f02dc02e91",
   "metadata": {},
   "outputs": [
    {
     "data": {
      "text/plain": [
       "back_sub (generic function with 1 method)"
      ]
     },
     "execution_count": 59,
     "metadata": {},
     "output_type": "execute_result"
    }
   ],
   "source": [
    "function back_sub(A, s)\n",
    "    N = size(A, 1)\n",
    "    b = copy(s)\n",
    "    for i in N:(-1):2\n",
    "        for  j in (i-1):-1:1\n",
    "            p = A[j, i]\n",
    "            A[j, :] -= p.*A[i, :]\n",
    "            b[j] -= p*b[i]\n",
    "        end\n",
    "    end\n",
    "    return A, b\n",
    "end\n",
    "            "
   ]
  }
 ],
 "metadata": {
  "kernelspec": {
   "display_name": "Julia 1.9.2",
   "language": "julia",
   "name": "julia-1.9"
  },
  "language_info": {
   "file_extension": ".jl",
   "mimetype": "application/julia",
   "name": "julia",
   "version": "1.10.0"
  }
 },
 "nbformat": 4,
 "nbformat_minor": 5
}
