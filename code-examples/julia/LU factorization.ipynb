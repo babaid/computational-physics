{
 "cells": [
  {
   "cell_type": "code",
   "execution_count": 1,
   "id": "3e1f6682-90c1-4a03-8388-192ba6ea657e",
   "metadata": {},
   "outputs": [
    {
     "name": "stderr",
     "output_type": "stream",
     "text": [
      "\u001b[32m\u001b[1m  Activating\u001b[22m\u001b[39m project at `~/repos/Computational-Physics-Intro/julia`\n"
     ]
    }
   ],
   "source": [
    "using Pkg;\n",
    "Pkg.activate(\".\")\n",
    "using LinearAlgebra"
   ]
  },
  {
   "cell_type": "code",
   "execution_count": 20,
   "id": "fbd02c71-4f89-438b-a5b1-9b32172649fc",
   "metadata": {},
   "outputs": [
    {
     "data": {
      "text/plain": [
       "LU (generic function with 1 method)"
      ]
     },
     "execution_count": 20,
     "metadata": {},
     "output_type": "execute_result"
    }
   ],
   "source": [
    "function LU(mat)\n",
    "    N = size(mat)[1]\n",
    "    L = Matrix(1.0I, 3, 3)\n",
    "    U = copy(mat)\n",
    "    for i in 1:N\n",
    "        for j in (i+1):N\n",
    "            L[j, i] = U[j, i]/U[i, i]\n",
    "            U[j, : ] = U[j, :] - L[j, i]*U[i, :]\n",
    "        end\n",
    "    end\n",
    "    return L, U\n",
    "end"
   ]
  },
  {
   "cell_type": "code",
   "execution_count": 21,
   "id": "c3c5218e-d34a-4694-848f-25e8d4ea7dc4",
   "metadata": {},
   "outputs": [
    {
     "data": {
      "text/plain": [
       "3×3 Matrix{Int64}:\n",
       " 1  2   3\n",
       " 4  5   6\n",
       " 7  8  10"
      ]
     },
     "execution_count": 21,
     "metadata": {},
     "output_type": "execute_result"
    }
   ],
   "source": [
    "test_mat = [1 2 3; 4 5 6; 7 8 10]"
   ]
  },
  {
   "cell_type": "code",
   "execution_count": 23,
   "id": "90c6b2bc-c52d-41ad-a66a-8ab44bbccd24",
   "metadata": {},
   "outputs": [
    {
     "data": {
      "text/plain": [
       "([1.0 0.0 0.0; 4.0 1.0 0.0; 7.0 2.0 1.0], [1 2 3; 0 -3 -6; 0 0 1])"
      ]
     },
     "execution_count": 23,
     "metadata": {},
     "output_type": "execute_result"
    }
   ],
   "source": [
    "L, U = LU(test_mat)"
   ]
  },
  {
   "cell_type": "code",
   "execution_count": 24,
   "id": "4d73d092-a4f8-45b6-9bd1-b2c6b18836be",
   "metadata": {},
   "outputs": [
    {
     "data": {
      "text/plain": [
       "3×3 Matrix{Float64}:\n",
       " 1.0  2.0   3.0\n",
       " 4.0  5.0   6.0\n",
       " 7.0  8.0  10.0"
      ]
     },
     "execution_count": 24,
     "metadata": {},
     "output_type": "execute_result"
    }
   ],
   "source": [
    "L*U"
   ]
  },
  {
   "cell_type": "code",
   "execution_count": null,
   "id": "e58f99d9-f88b-41f8-b382-5590281ed214",
   "metadata": {},
   "outputs": [],
   "source": []
  }
 ],
 "metadata": {
  "kernelspec": {
   "display_name": "Julia 1.9.2",
   "language": "julia",
   "name": "julia-1.9"
  },
  "language_info": {
   "file_extension": ".jl",
   "mimetype": "application/julia",
   "name": "julia",
   "version": "1.10.0"
  }
 },
 "nbformat": 4,
 "nbformat_minor": 5
}
