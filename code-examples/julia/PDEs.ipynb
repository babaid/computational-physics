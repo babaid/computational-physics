{
 "cells": [
  {
   "cell_type": "code",
   "execution_count": 1,
   "id": "bd1c1dae-0260-4c55-8dec-49ce76261595",
   "metadata": {},
   "outputs": [
    {
     "name": "stderr",
     "output_type": "stream",
     "text": [
      "\u001b[32m\u001b[1m  Activating\u001b[22m\u001b[39m project at `~/repos/Computational-Physics-Intro/julia`\n"
     ]
    }
   ],
   "source": [
    "using Pkg; Pkg.activate(\".\")"
   ]
  },
  {
   "cell_type": "code",
   "execution_count": 2,
   "id": "e464d9b3-7e5f-420e-818c-cf678da14404",
   "metadata": {},
   "outputs": [],
   "source": [
    "using LinearAlgebra, GLMakie"
   ]
  },
  {
   "cell_type": "code",
   "execution_count": 13,
   "id": "c51a79e4-8698-4264-9ee2-d6bc432d6fa7",
   "metadata": {},
   "outputs": [
    {
     "ename": "LoadError",
     "evalue": "UndefVarError: `inline!` not defined",
     "output_type": "error",
     "traceback": [
      "UndefVarError: `inline!` not defined",
      "",
      "Stacktrace:",
      " [1] top-level scope",
      "   @ In[13]:1"
     ]
    }
   ],
   "source": [
    "GLMakie.inline!(false)"
   ]
  },
  {
   "cell_type": "markdown",
   "id": "5615694a-1d78-41af-b88e-1b77dd8cc5e4",
   "metadata": {},
   "source": [
    "# Poisson equation stuff\n",
    "\n",
    "We have to solve it like this\n",
    "\n",
    "$$\n",
    "U_{ij}^{(new)} = \\Big[U_{i+1j}^{(old)}+ U_{i-1j}^{(new)}+U_{ij+1}^{(old)}+U_{ij-1}^{(new)}\\Big]\n",
    "$$\n",
    "\n",
    "\n",
    "$$\n",
    "U(i, N) = 99\n",
    "U(N, j) = 0\n",
    "U(1, j) = 0\n",
    "U(i, 1) = 0\n",
    "$$"
   ]
  },
  {
   "cell_type": "code",
   "execution_count": 4,
   "id": "91fa38d9-db1e-42ac-9214-2d235afda999",
   "metadata": {},
   "outputs": [
    {
     "ename": "LoadError",
     "evalue": "UndefVarError: `activate` not defined",
     "output_type": "error",
     "traceback": [
      "UndefVarError: `activate` not defined",
      "",
      "Stacktrace:",
      " [1] top-level scope",
      "   @ In[4]:1"
     ]
    }
   ],
   "source": [
    "Makie.activate(type = \"gl\")"
   ]
  },
  {
   "cell_type": "code",
   "execution_count": 6,
   "id": "bc1ab974-fb29-4250-9c95-8008d233be71",
   "metadata": {},
   "outputs": [
    {
     "data": {
      "text/plain": [
       "solve_laplace (generic function with 1 method)"
      ]
     },
     "execution_count": 6,
     "metadata": {},
     "output_type": "execute_result"
    }
   ],
   "source": [
    "function solve_laplace(u_0, num_iters)\n",
    "    N = size(u_0)[1]\n",
    "    u_old = copy(u_0)\n",
    "    u_curr = copy(u_0)\n",
    "    for n in 1:num_iters\n",
    "        for i in 2:N-1\n",
    "            for j in 2:N-1\n",
    "                u_curr[i, j] = (u_old[i+1, j]+u_curr[i-1, j] + u_old[i, j+1]+ u_curr[i, j-1])/4\n",
    "                u_old[i, j] = u_curr[i, j]\n",
    "            end\n",
    "        end\n",
    "    end\n",
    "    return u_curr\n",
    "end\n"
   ]
  },
  {
   "cell_type": "code",
   "execution_count": 106,
   "id": "dc07df26-a077-49b7-bb72-ec4aa1e12367",
   "metadata": {},
   "outputs": [
    {
     "data": {
      "text/plain": [
       "meshgrid (generic function with 1 method)"
      ]
     },
     "execution_count": 106,
     "metadata": {},
     "output_type": "execute_result"
    }
   ],
   "source": [
    "function meshgrid(xin,yin)\n",
    "    nx=length(xin)\n",
    "    ny=length(yin)\n",
    "    xout=zeros(ny,nx)\n",
    "    yout=zeros(ny,nx)\n",
    "    for jx=1:nx\n",
    "        for ix=1:ny\n",
    "            xout[ix,jx]=xin[jx]\n",
    "            yout[ix,jx]=yin[ix]\n",
    "        end\n",
    "    end\n",
    "    return (x=xout, y=yout)\n",
    "end"
   ]
  },
  {
   "cell_type": "code",
   "execution_count": 108,
   "id": "b2e5f576-ee31-40b4-842f-6788eaa0f11b",
   "metadata": {},
   "outputs": [
    {
     "data": {
      "text/plain": [
       "(x = [-50.0 -49.0 … 49.0 50.0; -50.0 -49.0 … 49.0 50.0; … ; -50.0 -49.0 … 49.0 50.0; -50.0 -49.0 … 49.0 50.0], y = [-50.0 -50.0 … -50.0 -50.0; -49.0 -49.0 … -49.0 -49.0; … ; 49.0 49.0 … 49.0 49.0; 50.0 50.0 … 50.0 50.0])"
      ]
     },
     "execution_count": 108,
     "metadata": {},
     "output_type": "execute_result"
    }
   ],
   "source": [
    "N  = 50\n",
    "xs = -N:N\n",
    "ys = -N:N\n",
    "x,y = meshgrid(xs, ys)"
   ]
  },
  {
   "cell_type": "code",
   "execution_count": 133,
   "id": "99ea3549-dad0-47d4-994b-e3b7ca1a361d",
   "metadata": {},
   "outputs": [],
   "source": [
    "U₀ = zeros(2*N, 2*N)\n",
    "U₀[:, 1:3] .= 99;"
   ]
  },
  {
   "cell_type": "code",
   "execution_count": 134,
   "id": "02437e87-1f75-4f43-8cc7-373a185fc54f",
   "metadata": {},
   "outputs": [],
   "source": [
    "sol = solve_laplace(U₀, 500);"
   ]
  },
  {
   "cell_type": "code",
   "execution_count": 135,
   "id": "c1524c09-69ed-4f34-b3a3-668cd13f65ce",
   "metadata": {},
   "outputs": [
    {
     "data": {
      "text/plain": [
       "Surface{Tuple{Matrix{Float32}, Matrix{Float32}, Matrix{Float32}}}"
      ]
     },
     "execution_count": 135,
     "metadata": {},
     "output_type": "execute_result"
    }
   ],
   "source": [
    "fig = Figure()\n",
    "ax = Axis3(fig[1, 1])\n",
    "surface!(ax, x, y, sol)"
   ]
  },
  {
   "cell_type": "code",
   "execution_count": 136,
   "id": "d7417dfc-c139-44a2-9015-c2d2455be9f6",
   "metadata": {},
   "outputs": [
    {
     "data": {
      "text/plain": [
       "GLMakie.Screen(...)"
      ]
     },
     "execution_count": 136,
     "metadata": {},
     "output_type": "execute_result"
    }
   ],
   "source": [
    "display(fig)"
   ]
  },
  {
   "cell_type": "code",
   "execution_count": null,
   "id": "fcfc3952-13b8-42dc-9296-fbfe5ccba0c0",
   "metadata": {},
   "outputs": [],
   "source": []
  }
 ],
 "metadata": {
  "kernelspec": {
   "display_name": "Julia 1.9.2",
   "language": "julia",
   "name": "julia-1.9"
  },
  "language_info": {
   "file_extension": ".jl",
   "mimetype": "application/julia",
   "name": "julia",
   "version": "1.10.0"
  }
 },
 "nbformat": 4,
 "nbformat_minor": 5
}
